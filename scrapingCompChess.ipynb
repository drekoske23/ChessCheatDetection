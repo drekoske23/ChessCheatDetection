{
 "cells": [
  {
   "cell_type": "code",
   "execution_count": 2,
   "metadata": {},
   "outputs": [],
   "source": [
    "from selenium import webdriver\n",
    "from selenium.webdriver.common.keys import Keys\n",
    "from selenium.webdriver.common.by import By\n",
    "from selenium.webdriver.support.ui import WebDriverWait\n",
    "from selenium.webdriver.support import expected_conditions as EC\n",
    "import time"
   ]
  },
  {
   "cell_type": "code",
   "execution_count": 3,
   "metadata": {},
   "outputs": [],
   "source": [
    "def scrape_compChess(page_num, items_per_page):\n",
    "    try:\n",
    "        driver = webdriver.Chrome()\n",
    "\n",
    "        url = 'https://www.chess.com/library/collections/every-computer-chess-championship-game-NVkTAeGv?itemsPerPage=' + str(items_per_page) + '&page=' + str(page_num)\n",
    "        driver.get(url)\n",
    "        time.sleep(2)\n",
    "\n",
    "        label_element = driver.find_element(By.XPATH, \"/html/body/div[1]/div[2]/main/div[1]/div/div/div[1]/div[2]/div[2]/table/thead/tr/th[8]/div/label\")\n",
    "\n",
    "        label_element.click() \n",
    "\n",
    "        download = driver.find_element(By.XPATH, \"/html/body/div[1]/div[2]/main/div[1]/div/div/div[1]/div[2]/div[1]/div[2]/div[2]/button\")\n",
    "        download.click()\n",
    "        time.sleep(3)\n",
    "        driver.quit()\n",
    "    except Exception:\n",
    "        return\n"
   ]
  },
  {
   "cell_type": "code",
   "execution_count": 6,
   "metadata": {},
   "outputs": [
    {
     "name": "stderr",
     "output_type": "stream",
     "text": [
      "Exception ignored in: <function Service.__del__ at 0x000002A58DAED090>\n",
      "Traceback (most recent call last):\n",
      "  File \"C:\\Users\\rekos\\AppData\\Roaming\\Python\\Python310\\site-packages\\selenium\\webdriver\\common\\service.py\", line 181, in __del__\n",
      "    self.stop()\n",
      "  File \"C:\\Users\\rekos\\AppData\\Roaming\\Python\\Python310\\site-packages\\selenium\\webdriver\\common\\service.py\", line 142, in stop\n",
      "    self.send_remote_shutdown_command()\n",
      "  File \"C:\\Users\\rekos\\AppData\\Roaming\\Python\\Python310\\site-packages\\selenium\\webdriver\\common\\service.py\", line 121, in send_remote_shutdown_command\n",
      "    request.urlopen(f\"{self.service_url}/shutdown\")\n",
      "  File \"c:\\ProgramData\\anaconda3\\lib\\urllib\\request.py\", line 216, in urlopen\n",
      "    return opener.open(url, data, timeout)\n",
      "  File \"c:\\ProgramData\\anaconda3\\lib\\urllib\\request.py\", line 519, in open\n",
      "    response = self._open(req, data)\n",
      "  File \"c:\\ProgramData\\anaconda3\\lib\\urllib\\request.py\", line 536, in _open\n",
      "    result = self._call_chain(self.handle_open, protocol, protocol +\n",
      "  File \"c:\\ProgramData\\anaconda3\\lib\\urllib\\request.py\", line 496, in _call_chain\n",
      "    result = func(*args)\n",
      "  File \"c:\\ProgramData\\anaconda3\\lib\\urllib\\request.py\", line 1377, in http_open\n",
      "    return self.do_open(http.client.HTTPConnection, req)\n",
      "  File \"c:\\ProgramData\\anaconda3\\lib\\urllib\\request.py\", line 1348, in do_open\n",
      "    h.request(req.get_method(), req.selector, req.data, headers,\n",
      "  File \"c:\\ProgramData\\anaconda3\\lib\\http\\client.py\", line 1282, in request\n",
      "    self._send_request(method, url, body, headers, encode_chunked)\n",
      "  File \"c:\\ProgramData\\anaconda3\\lib\\http\\client.py\", line 1328, in _send_request\n",
      "    self.endheaders(body, encode_chunked=encode_chunked)\n",
      "  File \"c:\\ProgramData\\anaconda3\\lib\\http\\client.py\", line 1277, in endheaders\n",
      "    self._send_output(message_body, encode_chunked=encode_chunked)\n",
      "  File \"c:\\ProgramData\\anaconda3\\lib\\http\\client.py\", line 1037, in _send_output\n",
      "    self.send(msg)\n",
      "  File \"c:\\ProgramData\\anaconda3\\lib\\http\\client.py\", line 975, in send\n",
      "    self.connect()\n",
      "  File \"c:\\ProgramData\\anaconda3\\lib\\http\\client.py\", line 941, in connect\n",
      "    self.sock = self._create_connection(\n",
      "  File \"c:\\ProgramData\\anaconda3\\lib\\socket.py\", line 833, in create_connection\n",
      "    sock.connect(sa)\n",
      "KeyboardInterrupt: \n"
     ]
    }
   ],
   "source": [
    "for i in range(201, 500):\n",
    "    scrape_compChess(i, 100)"
   ]
  },
  {
   "cell_type": "code",
   "execution_count": 5,
   "metadata": {},
   "outputs": [],
   "source": [
    "import os\n",
    "\n",
    "def concatenate_pgn_files(folder_path, output_filename):\n",
    "    output_file_path = os.path.join(folder_path, output_filename)\n",
    "    with open(output_file_path, 'w') as output_file:\n",
    "        for filename in os.listdir(folder_path):\n",
    "            if filename.endswith('.pgn'):\n",
    "                file_path = os.path.join(folder_path, filename)\n",
    "                with open(file_path, 'r') as input_file:\n",
    "                    output_file.write(input_file.read())\n",
    "    \n",
    "    print(f\"The output file '{output_filename}' is saved in the folder.\")\n",
    "\n"
   ]
  }
 ],
 "metadata": {
  "kernelspec": {
   "display_name": "base",
   "language": "python",
   "name": "python3"
  },
  "language_info": {
   "codemirror_mode": {
    "name": "ipython",
    "version": 3
   },
   "file_extension": ".py",
   "mimetype": "text/x-python",
   "name": "python",
   "nbconvert_exporter": "python",
   "pygments_lexer": "ipython3",
   "version": "3.10.9"
  },
  "orig_nbformat": 4
 },
 "nbformat": 4,
 "nbformat_minor": 2
}
