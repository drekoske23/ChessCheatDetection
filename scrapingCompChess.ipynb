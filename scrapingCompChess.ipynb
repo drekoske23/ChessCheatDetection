{
 "cells": [
  {
   "cell_type": "code",
   "execution_count": 2,
   "metadata": {},
   "outputs": [],
   "source": [
    "from selenium import webdriver\n",
    "from selenium.webdriver.common.keys import Keys\n",
    "from selenium.webdriver.common.by import By\n",
    "from selenium.webdriver.support.ui import WebDriverWait\n",
    "from selenium.webdriver.support import expected_conditions as EC\n",
    "from selenium.webdriver.common.action_chains import ActionChains\n",
    "import time"
   ]
  },
  {
   "cell_type": "code",
   "execution_count": 1,
   "metadata": {},
   "outputs": [],
   "source": [
    "def scrape_compChess(page_num, items_per_page):\n",
    "    driver = webdriver.Chrome()\n",
    "\n",
    "    url = 'https://www.chess.com/library/collections/every-computer-chess-championship-game-NVkTAeGv?itemsPerPage=' + str(items_per_page) + '&page=' + str(page_num)\n",
    "    driver.get(url)\n",
    "    time.sleep(2)\n",
    "\n",
    "    label_element = driver.find_element(By.XPATH, \"/html/body/div[1]/div[2]/main/div[1]/div/div/div[1]/div[2]/div[2]/table/thead/tr/th[8]/div/label\")\n",
    "\n",
    "    label_element.click() \n",
    "\n",
    "    download = driver.find_element(By.XPATH, \"/html/body/div[1]/div[2]/main/div[1]/div/div/div[1]/div[2]/div[1]/div[2]/div[2]/button\")\n",
    "    download.click()\n",
    "    time.sleep(3)\n",
    "    driver.quit()\n"
   ]
  },
  {
   "cell_type": "code",
   "execution_count": 3,
   "metadata": {},
   "outputs": [
    {
     "ename": "NoSuchElementException",
     "evalue": "Message: no such element: Unable to locate element: {\"method\":\"xpath\",\"selector\":\"/html/body/div[1]/div[2]/main/div[1]/div/div/div[1]/div[2]/div[2]/table/thead/tr/th[8]/div/label\"}\n  (Session info: chrome=114.0.5735.199); For documentation on this error, please visit: https://www.selenium.dev/documentation/webdriver/troubleshooting/errors#no-such-element-exception\nStacktrace:\nBacktrace:\n\tGetHandleVerifier [0x00F3A813+48355]\n\t(No symbol) [0x00ECC4B1]\n\t(No symbol) [0x00DD5358]\n\t(No symbol) [0x00E009A5]\n\t(No symbol) [0x00E00B3B]\n\t(No symbol) [0x00E2E232]\n\t(No symbol) [0x00E1A784]\n\t(No symbol) [0x00E2C922]\n\t(No symbol) [0x00E1A536]\n\t(No symbol) [0x00DF82DC]\n\t(No symbol) [0x00DF93DD]\n\tGetHandleVerifier [0x0119AABD+2539405]\n\tGetHandleVerifier [0x011DA78F+2800735]\n\tGetHandleVerifier [0x011D456C+2775612]\n\tGetHandleVerifier [0x00FC51E0+616112]\n\t(No symbol) [0x00ED5F8C]\n\t(No symbol) [0x00ED2328]\n\t(No symbol) [0x00ED240B]\n\t(No symbol) [0x00EC4FF7]\n\tBaseThreadInitThunk [0x75DE7D59+25]\n\tRtlInitializeExceptionChain [0x77B0B79B+107]\n\tRtlClearBits [0x77B0B71F+191]\n",
     "output_type": "error",
     "traceback": [
      "\u001b[1;31m---------------------------------------------------------------------------\u001b[0m",
      "\u001b[1;31mNoSuchElementException\u001b[0m                    Traceback (most recent call last)",
      "Cell \u001b[1;32mIn[3], line 2\u001b[0m\n\u001b[0;32m      1\u001b[0m \u001b[39mfor\u001b[39;00m i \u001b[39min\u001b[39;00m \u001b[39mrange\u001b[39m(\u001b[39m1\u001b[39m, \u001b[39m20\u001b[39m):\n\u001b[1;32m----> 2\u001b[0m     scrape_compChess(i, \u001b[39m100\u001b[39;49m)\n",
      "Cell \u001b[1;32mIn[1], line 8\u001b[0m, in \u001b[0;36mscrape_compChess\u001b[1;34m(page_num, items_per_page)\u001b[0m\n\u001b[0;32m      5\u001b[0m driver\u001b[39m.\u001b[39mget(url)\n\u001b[0;32m      6\u001b[0m time\u001b[39m.\u001b[39msleep(\u001b[39m2\u001b[39m)\n\u001b[1;32m----> 8\u001b[0m label_element \u001b[39m=\u001b[39m driver\u001b[39m.\u001b[39;49mfind_element(By\u001b[39m.\u001b[39;49mXPATH, \u001b[39m\"\u001b[39;49m\u001b[39m/html/body/div[1]/div[2]/main/div[1]/div/div/div[1]/div[2]/div[2]/table/thead/tr/th[8]/div/label\u001b[39;49m\u001b[39m\"\u001b[39;49m)\n\u001b[0;32m     10\u001b[0m label_element\u001b[39m.\u001b[39mclick() \n\u001b[0;32m     12\u001b[0m download \u001b[39m=\u001b[39m driver\u001b[39m.\u001b[39mfind_element(By\u001b[39m.\u001b[39mXPATH, \u001b[39m\"\u001b[39m\u001b[39m/html/body/div[1]/div[2]/main/div[1]/div/div/div[1]/div[2]/div[1]/div[2]/div[2]/button\u001b[39m\u001b[39m\"\u001b[39m)\n",
      "File \u001b[1;32m~\\AppData\\Roaming\\Python\\Python310\\site-packages\\selenium\\webdriver\\remote\\webdriver.py:740\u001b[0m, in \u001b[0;36mWebDriver.find_element\u001b[1;34m(self, by, value)\u001b[0m\n\u001b[0;32m    737\u001b[0m     by \u001b[39m=\u001b[39m By\u001b[39m.\u001b[39mCSS_SELECTOR\n\u001b[0;32m    738\u001b[0m     value \u001b[39m=\u001b[39m \u001b[39mf\u001b[39m\u001b[39m'\u001b[39m\u001b[39m[name=\u001b[39m\u001b[39m\"\u001b[39m\u001b[39m{\u001b[39;00mvalue\u001b[39m}\u001b[39;00m\u001b[39m\"\u001b[39m\u001b[39m]\u001b[39m\u001b[39m'\u001b[39m\n\u001b[1;32m--> 740\u001b[0m \u001b[39mreturn\u001b[39;00m \u001b[39mself\u001b[39;49m\u001b[39m.\u001b[39;49mexecute(Command\u001b[39m.\u001b[39;49mFIND_ELEMENT, {\u001b[39m\"\u001b[39;49m\u001b[39musing\u001b[39;49m\u001b[39m\"\u001b[39;49m: by, \u001b[39m\"\u001b[39;49m\u001b[39mvalue\u001b[39;49m\u001b[39m\"\u001b[39;49m: value})[\u001b[39m\"\u001b[39m\u001b[39mvalue\u001b[39m\u001b[39m\"\u001b[39m]\n",
      "File \u001b[1;32m~\\AppData\\Roaming\\Python\\Python310\\site-packages\\selenium\\webdriver\\remote\\webdriver.py:346\u001b[0m, in \u001b[0;36mWebDriver.execute\u001b[1;34m(self, driver_command, params)\u001b[0m\n\u001b[0;32m    344\u001b[0m response \u001b[39m=\u001b[39m \u001b[39mself\u001b[39m\u001b[39m.\u001b[39mcommand_executor\u001b[39m.\u001b[39mexecute(driver_command, params)\n\u001b[0;32m    345\u001b[0m \u001b[39mif\u001b[39;00m response:\n\u001b[1;32m--> 346\u001b[0m     \u001b[39mself\u001b[39;49m\u001b[39m.\u001b[39;49merror_handler\u001b[39m.\u001b[39;49mcheck_response(response)\n\u001b[0;32m    347\u001b[0m     response[\u001b[39m\"\u001b[39m\u001b[39mvalue\u001b[39m\u001b[39m\"\u001b[39m] \u001b[39m=\u001b[39m \u001b[39mself\u001b[39m\u001b[39m.\u001b[39m_unwrap_value(response\u001b[39m.\u001b[39mget(\u001b[39m\"\u001b[39m\u001b[39mvalue\u001b[39m\u001b[39m\"\u001b[39m, \u001b[39mNone\u001b[39;00m))\n\u001b[0;32m    348\u001b[0m     \u001b[39mreturn\u001b[39;00m response\n",
      "File \u001b[1;32m~\\AppData\\Roaming\\Python\\Python310\\site-packages\\selenium\\webdriver\\remote\\errorhandler.py:245\u001b[0m, in \u001b[0;36mErrorHandler.check_response\u001b[1;34m(self, response)\u001b[0m\n\u001b[0;32m    243\u001b[0m         alert_text \u001b[39m=\u001b[39m value[\u001b[39m\"\u001b[39m\u001b[39malert\u001b[39m\u001b[39m\"\u001b[39m]\u001b[39m.\u001b[39mget(\u001b[39m\"\u001b[39m\u001b[39mtext\u001b[39m\u001b[39m\"\u001b[39m)\n\u001b[0;32m    244\u001b[0m     \u001b[39mraise\u001b[39;00m exception_class(message, screen, stacktrace, alert_text)  \u001b[39m# type: ignore[call-arg]  # mypy is not smart enough here\u001b[39;00m\n\u001b[1;32m--> 245\u001b[0m \u001b[39mraise\u001b[39;00m exception_class(message, screen, stacktrace)\n",
      "\u001b[1;31mNoSuchElementException\u001b[0m: Message: no such element: Unable to locate element: {\"method\":\"xpath\",\"selector\":\"/html/body/div[1]/div[2]/main/div[1]/div/div/div[1]/div[2]/div[2]/table/thead/tr/th[8]/div/label\"}\n  (Session info: chrome=114.0.5735.199); For documentation on this error, please visit: https://www.selenium.dev/documentation/webdriver/troubleshooting/errors#no-such-element-exception\nStacktrace:\nBacktrace:\n\tGetHandleVerifier [0x00F3A813+48355]\n\t(No symbol) [0x00ECC4B1]\n\t(No symbol) [0x00DD5358]\n\t(No symbol) [0x00E009A5]\n\t(No symbol) [0x00E00B3B]\n\t(No symbol) [0x00E2E232]\n\t(No symbol) [0x00E1A784]\n\t(No symbol) [0x00E2C922]\n\t(No symbol) [0x00E1A536]\n\t(No symbol) [0x00DF82DC]\n\t(No symbol) [0x00DF93DD]\n\tGetHandleVerifier [0x0119AABD+2539405]\n\tGetHandleVerifier [0x011DA78F+2800735]\n\tGetHandleVerifier [0x011D456C+2775612]\n\tGetHandleVerifier [0x00FC51E0+616112]\n\t(No symbol) [0x00ED5F8C]\n\t(No symbol) [0x00ED2328]\n\t(No symbol) [0x00ED240B]\n\t(No symbol) [0x00EC4FF7]\n\tBaseThreadInitThunk [0x75DE7D59+25]\n\tRtlInitializeExceptionChain [0x77B0B79B+107]\n\tRtlClearBits [0x77B0B71F+191]\n"
     ]
    }
   ],
   "source": [
    "for i in range(1, 20):\n",
    "    scrape_compChess(i, 100)"
   ]
  }
 ],
 "metadata": {
  "kernelspec": {
   "display_name": "base",
   "language": "python",
   "name": "python3"
  },
  "language_info": {
   "codemirror_mode": {
    "name": "ipython",
    "version": 3
   },
   "file_extension": ".py",
   "mimetype": "text/x-python",
   "name": "python",
   "nbconvert_exporter": "python",
   "pygments_lexer": "ipython3",
   "version": "3.10.9"
  },
  "orig_nbformat": 4
 },
 "nbformat": 4,
 "nbformat_minor": 2
}
